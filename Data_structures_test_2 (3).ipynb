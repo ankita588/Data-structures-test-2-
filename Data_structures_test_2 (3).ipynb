{
  "nbformat": 4,
  "nbformat_minor": 0,
  "metadata": {
    "colab": {
      "provenance": []
    },
    "kernelspec": {
      "name": "python3",
      "display_name": "Python 3"
    },
    "language_info": {
      "name": "python"
    }
  },
  "cells": [
    {
      "cell_type": "markdown",
      "source": [
        "# **Data type and Structures question**\n",
        "\n",
        "# **What are the data structures and why are they important?**\n",
        "\n",
        "Data Structures: The Foundation of Efficient Programming\n",
        "Data structures are specialized formats for organizing and storing data in computers. They are crucial for efficient data management and retrieval, enabling programmers to write optimized algorithms and software.\n",
        "\n",
        "Key Data Structures and Their Importance\n",
        "Here are some of the most common data structures and their significance:\n",
        "\n",
        "Arrays:\n",
        "\n",
        "Definition: A collection of elements, typically of the same data type, stored in contiguous memory locations.\n",
        "Importance:\n",
        "Fast access: Elements can be accessed directly using their index.\n",
        "Simple implementation: Easy to understand and implement.\n",
        "Widely used: Foundational for many other data structures.\n",
        "Linked Lists:\n",
        "\n",
        "Definition: A linear collection of elements, where each element (node) points to the next.\n",
        "Importance:\n",
        "Dynamic size: Can grow or shrink as needed.\n",
        "Efficient insertion and deletion: Elements can be added or removed at any position without shifting elements.\n",
        "Used in various applications: Memory management, graph representation, and more.\n",
        "Stacks:\n",
        "\n",
        "Definition: A LIFO (Last-In, First-Out) data structure, where elements are added and removed from the top.\n",
        "Importance:\n",
        "Function calls: Used to manage function calls and local variables.\n",
        "Expression evaluation: Helpful in evaluating arithmetic expressions.\n",
        "Backtracking algorithms: Used in algorithms that explore different possibilities.\n",
        "Queues:\n",
        "\n",
        "Definition: A FIFO (First-In, First-Out) data structure, where elements are added at the rear and removed from the front.\n",
        "Importance:\n",
        "Breadth-first search: Used in graph traversal algorithms.\n",
        "Task scheduling: Simulates waiting lines and schedules tasks.\n",
        "Buffering: Used in data transmission and network protocols.\n",
        "Trees:\n",
        "\n",
        "Definition: A hierarchical data structure, where elements are organized in a parent-child relationship.\n",
        "Importance:\n",
        "Efficient searching and sorting: Binary search trees allow for logarithmic time search and insertion.\n",
        "File systems and databases: Used to organize data in hierarchical structures.\n",
        "Expression representation: Represent expressions in a structured manner.\n",
        "Graphs:\n",
        "\n",
        "Definition: A collection of nodes (vertices) connected by edges.\n",
        "Importance:\n",
        "Social networks: Model relationships between people.\n",
        "Routing algorithms: Determine the shortest paths in networks.\n",
        "Scheduling and resource allocation: Optimize resource allocation and scheduling.\n",
        "Why are data structures important?\n",
        "\n",
        "Efficiency: Choosing the right data structure can significantly improve the performance of your algorithms.\n",
        "Organization: Data structures help organize data in a meaningful way, making it easier to manage and access.\n",
        "Problem-solving: Understanding data structures is essential for solving complex problems efficiently.\n",
        "Algorithm design: Many algorithms are built around specific data structures."
      ],
      "metadata": {
        "id": "eRT7B7lR3vv3"
      }
    },
    {
      "cell_type": "markdown",
      "source": [
        "# **2 Explain the difference between mutable and immutable data type with example.**\n",
        "\n",
        "Mutable vs. Immutable Data Types\n",
        "\n",
        "In programming, data types can be broadly classified into two categories:\n",
        "\n",
        "1. Mutable Data Types:\n",
        "\n",
        "Definition: These data types can be modified or changed after they are created.\n",
        "Examples:\n",
        "Lists:\n"
      ],
      "metadata": {
        "id": "lAw0TwW74JU2"
      }
    },
    {
      "cell_type": "code",
      "source": [
        "my_list = [1, 2, 3]\n",
        "my_list.append(4)  # Modifies the list by adding an element\n",
        "print(my_list)  # Output: [1, 2, 3, 4]"
      ],
      "metadata": {
        "id": "DaC2UmmZ4nIF"
      },
      "execution_count": null,
      "outputs": []
    },
    {
      "cell_type": "markdown",
      "source": [
        "Dictionaries:"
      ],
      "metadata": {
        "id": "sw19Rdhq44ew"
      }
    },
    {
      "cell_type": "code",
      "source": [
        "my_dict = {'name': 'Alice', 'age': 30}\n",
        "my_dict['age'] = 31  # Modifies the value associated with the 'age' key\n",
        "print(my_dict)  # Output: {'name': 'Alice', 'age': 31}"
      ],
      "metadata": {
        "id": "01g-dvUE49RM"
      },
      "execution_count": null,
      "outputs": []
    },
    {
      "cell_type": "markdown",
      "source": [
        "Sets:"
      ],
      "metadata": {
        "id": "0fUaL5Cg4_ZP"
      }
    },
    {
      "cell_type": "code",
      "source": [
        "my_set = {1, 2, 3}\n",
        "my_set.add(4)  # Modifies the set by adding an element\n",
        "print(my_set)  # Output: {1, 2, 3, 4}"
      ],
      "metadata": {
        "id": "a4GnI6tC5FX9"
      },
      "execution_count": null,
      "outputs": []
    },
    {
      "cell_type": "markdown",
      "source": [
        "2. Immutable Data Types:\n",
        "\n",
        "Definition: These data types cannot be changed after they are created. If you want to modify an immutable object, a new object with the modified value is created.\n",
        "Examples:\n",
        "Strings:"
      ],
      "metadata": {
        "id": "fbDYTP-55H-z"
      }
    },
    {
      "cell_type": "code",
      "source": [
        "my_string = \"hello\"\n",
        "new_string = my_string + \" world\"  # Creates a new string\n",
        "print(my_string)  # Output: \"hello\"\n",
        "print(new_string)  # Output: \"hello world\""
      ],
      "metadata": {
        "id": "Mch0X9mJ5KIs"
      },
      "execution_count": null,
      "outputs": []
    },
    {
      "cell_type": "markdown",
      "source": [
        "Tuples:"
      ],
      "metadata": {
        "id": "9zi0FRe65NAj"
      }
    },
    {
      "cell_type": "code",
      "source": [
        "my_tuple = (1, 2, 3)\n",
        "# my_tuple[0] = 4  # This will raise an error as tuples are immutable\n",
        "new_tuple = (4,) + my_tuple[1:]  # Creates a new tuple\n",
        "print(new_tuple)  # Output: (4, 2, 3)"
      ],
      "metadata": {
        "id": "Hp_Kwot75QyH"
      },
      "execution_count": null,
      "outputs": []
    },
    {
      "cell_type": "markdown",
      "source": [
        "Integers:"
      ],
      "metadata": {
        "id": "FQ2_8rnp5SIu"
      }
    },
    {
      "cell_type": "code",
      "source": [
        "my_int = 5\n",
        "# my_int = my_int + 1  # This doesn't modify the original integer, but creates a new one\n",
        "print(my_int)  # Output: 5"
      ],
      "metadata": {
        "id": "stdXvewk5XY5"
      },
      "execution_count": null,
      "outputs": []
    },
    {
      "cell_type": "markdown",
      "source": [
        "# **3 What are the main difference between list and Tulips in python?**\n",
        "\n",
        "Answer Lists\n",
        "\n",
        "Mutable: You can change their contents after creation.\n",
        "Add elements: my_list.append(new_item)\n",
        "Remove elements: my_list.remove(item)\n",
        "Modify elements: my_list[index] = new_value\n",
        "Syntax: Enclosed in square brackets []\n",
        "Use cases:\n",
        "When you need to frequently add, remove, or modify elements.\n",
        "Representing collections where the order matters and changes are expected.\n",
        "Tuples\n",
        "\n",
        "Immutable: Cannot be changed after creation.\n",
        "Syntax: Enclosed in parentheses ()\n",
        "Use cases:\n",
        "When you want to ensure data integrity and prevent accidental modifications.\n",
        "Representing fixed collections of data.\n",
        "As keys in dictionaries (since they are hashable).\n",
        "\n",
        "\n"
      ],
      "metadata": {
        "id": "L_dbLK_b5x_p"
      }
    },
    {
      "cell_type": "code",
      "source": [
        "my_list = [1, 2, 3]  # List\n",
        "my_tuple = (1, 2, 3)  # Tuple\n",
        "\n",
        "my_list.append(4)  # Valid: Modifies the list\n",
        "# my_tuple.append(4)  # Invalid: Tuples cannot be modified\n",
        "\n",
        "print(my_list)  # Output: [1, 2, 3, 4]\n",
        "print(my_tuple)  # Output: (1, 2, 3)"
      ],
      "metadata": {
        "id": "19-rkjRm6OZr"
      },
      "execution_count": null,
      "outputs": []
    },
    {
      "cell_type": "markdown",
      "source": [
        "# **4 Describe how dictionary store data?**\n",
        "\n",
        "Answer\n",
        "Dictionaries in Python\n",
        "\n",
        "Dictionaries are a fundamental data structure in Python, storing data in an efficient and organized manner. They are characterized by their use of key-value pairs.\n",
        "\n",
        "How Dictionaries Store Data\n",
        "\n",
        "Key-Value Pairs:\n",
        "\n",
        "Each element in a dictionary is a pair, consisting of a key and its corresponding value.\n",
        "The key is unique within the dictionary, allowing for quick and efficient data retrieval.\n",
        "The value associated with a key can be of any data type, including numbers, strings, lists, or even other dictionaries.\n",
        "Hashing:\n",
        "\n",
        "Python dictionaries use a technique called hashing to store and retrieve data.\n",
        "Hashing converts the key into an integer value, called a hash value.\n",
        "This hash value is used to determine the location where the key-value pair should be stored within the dictionary's internal structure.\n",
        "Internal Structure:\n",
        "\n",
        "Python dictionaries typically use a hash table as their underlying data structure.\n",
        "A hash table is an array of buckets or slots.\n",
        "The hash value of a key determines the bucket in which the key-value pair is stored.\n",
        "If multiple keys hash to the same bucket, a technique called collision resolution is used to handle the situation."
      ],
      "metadata": {
        "id": "tzylIpkQ6RM_"
      }
    },
    {
      "cell_type": "markdown",
      "source": [
        "Key Points:\n",
        "\n",
        "Dictionaries are unordered collections, meaning the order of elements is not guaranteed.\n",
        "Keys must be unique and immutable (e.g., numbers, strings, tuples).\n",
        "Values can be of any data type.\n",
        "Dictionaries provide fast lookups and insertions due to their efficient hash-based implementation.\n",
        "Example:"
      ],
      "metadata": {
        "id": "2UDJPvq265sZ"
      }
    },
    {
      "cell_type": "code",
      "source": [
        "my_dict = {'name': 'Alice', 'age': 30, 'city': 'New York'}"
      ],
      "metadata": {
        "id": "wsVhjm1_67GD"
      },
      "execution_count": null,
      "outputs": []
    },
    {
      "cell_type": "markdown",
      "source": [
        "# 5 Why might you use a set instead of a list in Python?\n",
        "\n",
        "You'd use a set in Python instead of a list when:\n",
        "\n",
        "Uniqueness is paramount: Sets inherently ensure that all elements are unique. If you have a collection of data where duplicates are not allowed or needed, a set is the ideal choice.\n",
        "\n",
        "Efficient membership checks: Checking if an element exists within a set is extremely fast (O(1) time complexity on average). This is because sets use hashing internally.\n",
        "\n",
        "Removing duplicates: If you have a list and need to remove duplicates, converting it to a set and then back to a list is a very efficient way to achieve this.\n",
        "\n",
        "Set operations: Sets support efficient set operations like:\n",
        "\n",
        "Union: Combining elements from two sets.\n",
        "Intersection: Finding elements common to both sets.\n",
        "Difference: Finding elements in one set but not in another.\n",
        "Symmetric difference: Finding elements in either set, but not in both.\n",
        "\n"
      ],
      "metadata": {
        "id": "h68NidRk7VT4"
      }
    },
    {
      "cell_type": "code",
      "source": [
        "my_list = [1, 2, 3, 2, 1, 4, 5, 5]\n",
        "my_set = set(my_list)  # Remove duplicates\n",
        "unique_list = list(my_set)\n",
        "\n",
        "print(my_set)  # Output: {1, 2, 3, 4, 5}\n",
        "print(unique_list)  # Output: [1, 2, 3, 4, 5]"
      ],
      "metadata": {
        "id": "VDakuUoW71Jw"
      },
      "execution_count": null,
      "outputs": []
    },
    {
      "cell_type": "markdown",
      "source": [
        "In this example, we use a set to efficiently remove duplicates from a list.\n",
        "\n",
        "However, keep in mind:\n",
        "\n",
        "Order is not guaranteed: Sets are unordered collections, meaning the order of elements is not preserved. If the order of elements is important, a list is a better choice."
      ],
      "metadata": {
        "id": "LsneIsoT75-Z"
      }
    },
    {
      "cell_type": "markdown",
      "source": [
        "# What is a string in Python and how is it different from a list?\n",
        "Answer\n",
        "In Python, a string is a sequence of characters enclosed within single ('...') or double quotes (\"...\").\n",
        "\n",
        "Key Points:\n",
        "\n",
        "Strings:\n",
        "Represent textual data.\n",
        "Used for various purposes: text manipulation, formatting, displaying information to the user.\n",
        "Offer various methods for string operations: slicing, concatenation, finding substrings, etc.\n",
        "Lists:\n",
        "More versatile and flexible than strings.\n",
        "Can store and manipulate diverse data.\n",
        "Used for various applications: data storage, data analysis, algorithm implementations.\n",
        "\n"
      ],
      "metadata": {
        "id": "Aw_72W5q78KV"
      }
    },
    {
      "cell_type": "markdown",
      "source": [
        "# **7 How do tulips ensure Data integrity in Python?**\n",
        "\n",
        "\n",
        "Tuples in Python ensure data integrity primarily through their immutability. This means that once a tuple is created, its contents cannot be modified. This characteristic provides several key benefits:\n",
        "\n",
        "Preventing accidental changes: Since tuples are immutable, you can be confident that the data within them will not be altered unintentionally. This is especially crucial when dealing with critical or sensitive information.\n",
        "\n",
        "Enhancing data consistency: Immutability helps maintain the consistency of data across different parts of your code. If a tuple is passed around as an argument or returned from a function, you know that its values will remain unchanged, reducing the risk of unexpected behavior.\n",
        "\n",
        "Improving code reliability: By preventing accidental modifications, tuples contribute to more reliable and predictable code. This can be particularly important in large and complex projects where data integrity is paramount.\n",
        "\n",
        "Hashing and dictionary keys: Tuples are hashable, meaning they can be used as keys in dictionaries. This is because their immutability guarantees that their hash value will remain constant, which is essential for efficient dictionary operations.\n",
        "\n",
        "Here's a simple example:\n"
      ],
      "metadata": {
        "id": "msCqA90R87Oi"
      }
    },
    {
      "cell_type": "code",
      "source": [
        "my_tuple = (1, 2, 3)\n",
        "\n",
        "# Attempting to modify a tuple will raise an error:\n",
        "# my_tuple[0] = 4  # This line will cause an error\n",
        "\n",
        "# Creating a new tuple with modified values:\n",
        "new_tuple = (4, 2, 3)"
      ],
      "metadata": {
        "id": "nZvyEoX89HmA"
      },
      "execution_count": null,
      "outputs": []
    },
    {
      "cell_type": "markdown",
      "source": [
        "In this example, my_tuple cannot be directly modified. To change its values, a new tuple (new_tuple) must be created.\n",
        "\n",
        "In summary:\n",
        "\n",
        "Tuples, through their immutability, play a crucial role in ensuring data integrity in Python by preventing accidental changes, maintaining data consistency, improving code reliability, and enabling efficient use as dictionary keys.\n",
        "\n",
        "\n",
        "Sources and related content\n"
      ],
      "metadata": {
        "id": "NZUyT5yn9L4R"
      }
    },
    {
      "cell_type": "markdown",
      "source": [
        "# 8 What is a Hash table and how does it relate to dictionary is in Python?\n",
        "\n",
        "Answer\n",
        "Hash Tables: A Foundation for Efficient Data Retrieval\n",
        "\n",
        "A hash table is a data structure that uses a hash function to map keys to specific locations (indices) within an array. This allows for incredibly fast data retrieval and insertion operations, making them a cornerstone of efficient data management.\n",
        "\n",
        "How Hash Tables Work\n",
        "\n",
        "Hash Function:\n",
        "\n",
        "A hash function takes a key as input and produces an integer hash value.\n",
        "This hash value is used to determine the index in the array where the corresponding value should be stored.\n",
        "Array of Buckets:\n",
        "\n",
        "The hash table itself is an array of buckets or slots.\n",
        "The hash value of a key determines the bucket where the key-value pair is placed.\n",
        "Collisions:\n",
        "\n",
        "If two or more keys hash to the same bucket, a collision occurs.\n",
        "Collision resolution techniques (like chaining or open addressing) are used to handle such cases.\n",
        "Hash Tables and Python Dictionaries\n",
        "\n",
        "Python dictionaries are essentially hash tables under the hood. They leverage the power of hashing to provide:\n",
        "\n",
        "Fast Lookups: Retrieving a value associated with a key is incredibly fast, typically taking constant time (O(1)) on average.\n",
        "Efficient Insertions: Adding new key-value pairs is also very efficient.\n",
        "Key-Based Access: Data is accessed directly using keys, making it easy to organize and retrieve information."
      ],
      "metadata": {
        "id": "Vf10MKZe9dJ0"
      }
    },
    {
      "cell_type": "markdown",
      "source": [
        "# **9  Can  lists contain different data type in Python?**\n",
        "\n"
      ],
      "metadata": {
        "id": "YiDanNN_-P42"
      }
    },
    {
      "cell_type": "markdown",
      "source": [
        "Yes, lists in Python can contain elements of different data types.\n",
        "\n",
        "Here's an example:\n"
      ],
      "metadata": {
        "id": "LqsVnxQz-i6x"
      }
    },
    {
      "cell_type": "code",
      "source": [
        "my_list = [10, \"hello\", 3.14, True]"
      ],
      "metadata": {
        "id": "CujjqBzb-mtq"
      },
      "execution_count": null,
      "outputs": []
    },
    {
      "cell_type": "markdown",
      "source": [
        "This list contains:\n",
        "\n",
        "10: An integer\n",
        "\"hello\": A string\n",
        "3.14: A float (floating-point number)\n",
        "True: A boolean value\n",
        "This flexibility makes Python lists very versatile and powerful for storing various kinds of data within a single collection.\n",
        "\n",
        "\n",
        "Sources and related content\n"
      ],
      "metadata": {
        "id": "SfZ26RPC-oAt"
      }
    },
    {
      "cell_type": "markdown",
      "source": [
        "# 10 Explain why string are immutable in Python?\n",
        "\n",
        "Strings in Python are immutable, meaning they cannot be changed after they are created. Here's why:\n",
        "\n",
        "Hashing and Dictionary Keys:\n",
        "\n",
        "Strings are often used as keys in dictionaries.\n",
        "Dictionaries rely on the hash of the key to efficiently store and retrieve values.\n",
        "If strings were mutable, their hash values could change, breaking the dictionary's internal structure.\n",
        "Multithreading and Concurrency:\n",
        "\n",
        "In multithreaded environments, multiple threads might try to modify the same string simultaneously.\n",
        "Immutability prevents race conditions and ensures data integrity.\n",
        "Caching and Performance:\n",
        "\n",
        "Immutable objects can be easily cached, as their values will never change.\n",
        "This can significantly improve performance, especially for frequently used strings.\n",
        "Security:\n",
        "\n",
        "Immutability can help prevent unintended modifications to sensitive data.\n",
        "How to \"Modify\" Strings:\n",
        "\n",
        "Although strings themselves cannot be changed, you can create new strings based on existing ones using various string methods:\n",
        "\n",
        "Concatenation: Combining two or more strings using the + operator or the join() method.\n",
        "Slicing: Extracting a portion of a string.\n",
        "Replacing substrings: Creating a new string with specific substrings replaced.\n",
        "Example:"
      ],
      "metadata": {
        "id": "NeKs3ARM-t5H"
      }
    },
    {
      "cell_type": "code",
      "source": [
        "my_string = \"hello\"\n",
        "new_string = my_string + \" world\"  # Creates a new string\n",
        "print(my_string)  # Output: \"hello\"\n",
        "print(new_string)  # Output: \"hello world\""
      ],
      "metadata": {
        "id": "GYGWrU3Z_bAG"
      },
      "execution_count": null,
      "outputs": []
    },
    {
      "cell_type": "markdown",
      "source": [
        "In this example, my_string remains unchanged. A new string, new_string, is created by concatenating \" world\" to my_string.\n",
        "\n",
        "While the immutability of strings might seem restrictive at first, it provides several advantages in terms of performance, safety, and predictability in Python programs."
      ],
      "metadata": {
        "id": "vJOslDGh_ia0"
      }
    },
    {
      "cell_type": "markdown",
      "source": [
        "# **11 What Advantage do dictionary is offer over list for certain task?**\n",
        "\n",
        "Dictionaries offer several advantages over lists in certain tasks, primarily due to their key-value structure:\n",
        "\n",
        "1. Fast Lookups:\n",
        "\n",
        "Dictionaries: Use hashing to map keys to values, allowing for very fast lookups (O(1) time complexity on average). This means you can quickly retrieve a value associated with a specific key.\n",
        "Lists: Require linear search (O(n) time complexity) to find a specific element, especially if the list is large.\n",
        "2. Unique Identifiers:\n",
        "\n",
        "Dictionaries: Keys must be unique. This ensures that each value can be accessed directly and unambiguously using its corresponding key.\n",
        "Lists: Can contain duplicate values, which can sometimes lead to confusion or require additional logic to handle.\n",
        "3. Associative Data:\n",
        "\n",
        "Dictionaries: Naturally represent relationships between data. Each key acts as a label or identifier for its associated value.\n",
        "Lists: Primarily store elements in a sequential order, making it less intuitive to represent relationships between different pieces of information.\n",
        "Example:\n",
        "\n",
        "Imagine you're storing information about students in a class:\n",
        "\n",
        "List: [\"Alice\", \"Bob\", \"Charlie\", 90, 85, 92]\n",
        "\n",
        "You'd need to know the order (e.g., index 0 is Alice's name, index 2 is Charlie's name, index 3 is Alice's score, etc.) to access the information.\n",
        "Dictionary:"
      ],
      "metadata": {
        "id": "ZjgIk4oY_jpp"
      }
    },
    {
      "cell_type": "code",
      "source": [
        "students = {\n",
        "    \"Alice\": 90,\n",
        "    \"Bob\": 85,\n",
        "    \"Charlie\": 92"
      ],
      "metadata": {
        "id": "Rn9CY7h7As2t"
      },
      "execution_count": null,
      "outputs": []
    },
    {
      "cell_type": "markdown",
      "source": [
        "Dictionaries excel in situations where:\n",
        "\n",
        "Fast lookups are crucial: Such as in database indexing or searching for specific information.\n",
        "Data needs to be organized by unique identifiers: Like associating names with scores, product IDs with prices, or user IDs with profiles.\n",
        "Representing relationships between data is important: Dictionaries provide a clear and concise way to map keys to their corresponding values.\n",
        "While lists are versatile for ordered collections, dictionaries offer significant advantages in terms of speed, efficiency, and clarity when dealing with data that can be naturally organized using key-value pairs.\n"
      ],
      "metadata": {
        "id": "_1MfS4NdA4I5"
      }
    },
    {
      "cell_type": "markdown",
      "source": [
        "# **12 Describe a scenario where using a Tulip would be. preferable over a list?**\n",
        "\n",
        "Scenario: Storing Configuration Settings\n",
        "\n",
        "Imagine you're developing a game with the following settings:\n",
        "\n",
        "Game Difficulty: Easy, Medium, Hard\n",
        "Sound Volume: 0.0 (muted) to 1.0 (max)\n",
        "Resolution: 1280x720, 1920x1080, 2560x1440\n",
        "Why a Tuple is Preferable:\n",
        "\n",
        "Immutability: Game settings should generally remain constant throughout a single gameplay session. Using a tuple prevents accidental modifications to these settings during runtime. This ensures consistent gameplay behavior.\n",
        "\n",
        "Example: game_settings = (\"Medium\", 0.7, \"1920x1080\")\n",
        "Data Integrity: By making the settings immutable, you protect the game's core configuration from unintended changes, reducing the risk of unexpected behavior or errors.\n",
        "\n",
        "Readability: Tuples can improve code readability by clearly indicating that these values should not be modified within the game logic.\n",
        "\n"
      ],
      "metadata": {
        "id": "DOhpNIlYFySl"
      }
    },
    {
      "cell_type": "markdown",
      "source": [
        "# **13 How do set? handle duplicate value and python?**\n",
        "\n",
        "In Python, sets are specifically designed to not allow duplicate values.\n",
        "\n",
        "How it Works: When you add an element to a set, Python internally checks if that element already exists within the set.\n",
        "\n",
        "If the element is already present, it's not added again, effectively removing any potential duplicates.\n",
        "Example:\n"
      ],
      "metadata": {
        "id": "LB0L9mbFGhIt"
      }
    },
    {
      "cell_type": "code",
      "source": [
        "my_set = {1, 2, 3, 3, 2, 1}\n",
        "print(my_set)  # Output: {1, 2, 3}"
      ],
      "metadata": {
        "id": "rqExpbqgHHih"
      },
      "execution_count": null,
      "outputs": []
    },
    {
      "cell_type": "markdown",
      "source": [
        "In this example, even though we initially try to add duplicate values (1, 2, and 3 multiple times), the resulting set only contains unique elements: 1, 2, and 3.\n",
        "\n",
        "Key Points:\n",
        "\n",
        "Sets inherently enforce uniqueness of elements.\n",
        "This behavior is fundamental to the concept of a set in mathematics and is efficiently implemented in Python's set data structure.\n",
        "If you need to work with a collection that allows duplicates, you should use a list instead."
      ],
      "metadata": {
        "id": "XIagdg0fHL8-"
      }
    },
    {
      "cell_type": "markdown",
      "source": [
        "# 14 How does the \"in\" keywords work differently for list and dictionary?\n",
        "\n",
        "The in keyword behaves differently when used with lists and dictionaries in Python:\n",
        "\n",
        "Lists:\n",
        "\n",
        "Checks for value membership: The in operator checks if a specific value exists within the list.\n",
        "Example:\n"
      ],
      "metadata": {
        "id": "vdqGPZR8HQTJ"
      }
    },
    {
      "cell_type": "code",
      "source": [
        "my_list = [1, 2, 3]\n",
        "if 2 in my_list:\n",
        "    print(\"2 is in the list\")"
      ],
      "metadata": {
        "id": "c8oIz0m4IQWV"
      },
      "execution_count": null,
      "outputs": []
    },
    {
      "cell_type": "markdown",
      "source": [
        "Dictionaries:\n",
        "\n",
        "Checks for key existence: The in operator checks if a specific key exists in the dictionary.\n",
        "Example:"
      ],
      "metadata": {
        "id": "QU8TgQwuIc-L"
      }
    },
    {
      "cell_type": "code",
      "source": [
        "my_dict = {'name': 'Alice', 'age': 30}\n",
        "if 'name' in my_dict:\n",
        "    print(\"The key 'name' exists in the dictionary\")"
      ],
      "metadata": {
        "id": "T86eUPWvIfgS"
      },
      "execution_count": null,
      "outputs": []
    },
    {
      "cell_type": "markdown",
      "source": [
        "Key Differences:\n",
        "\n",
        "Lists: Check for the presence of a specific value among the elements of the list.\n",
        "Dictionaries: Check for the presence of a specific key within the key-value pairs.\n"
      ],
      "metadata": {
        "id": "4_xAwTpfIkP2"
      }
    },
    {
      "cell_type": "markdown",
      "source": [
        "# **15  Can you modify the element of a Tulip example? Why or why not?**\n",
        "\n",
        "You cannot directly modify the elements of a tuple in Python.\n",
        "\n",
        "Here's why:\n",
        "\n",
        "Immutability: Tuples are designed to be immutable, meaning their contents cannot be changed after they are created. This is a fundamental characteristic of tuples.\n",
        "Workarounds:\n",
        "\n",
        "While you can't directly modify an existing tuple, you can achieve similar results by:\n",
        "\n",
        "Creating a new tuple:\n",
        "\n",
        "Extract the elements you want to keep.\n",
        "Create a new tuple with the desired modifications.\n",
        "Python\n",
        "\n",
        "original_tuple = (1, 2, 3)\n",
        "new_tuple = (1, 2, 4)  # Create a new tuple with the third element changed\n",
        "Converting to a list:\n",
        "\n",
        "Convert the tuple to a list.\n",
        "Modify the list.\n",
        "Convert the list back to a tuple.\n",
        "\n",
        "\n",
        "\n"
      ],
      "metadata": {
        "id": "RcdP1u-SInI_"
      }
    },
    {
      "cell_type": "code",
      "source": [
        "original_tuple = (1, 2, 3)\n",
        "list_from_tuple = list(original_tuple)\n",
        "list_from_tuple[2] = 4\n",
        "new_tuple = tuple(list_from_tuple)"
      ],
      "metadata": {
        "id": "65fx23yyJCUV"
      },
      "execution_count": null,
      "outputs": []
    },
    {
      "cell_type": "markdown",
      "source": [
        "# **16 Describe the time complexity of accessing element in a dictionary.**\n",
        "\n",
        "The time complexity of checking for the existence of a key in a Python dictionary is O(1) on average.\n",
        "\n",
        "Here's why:\n",
        "\n",
        "Hashing: Python dictionaries are implemented using hash tables.\n",
        "Hash Function: When a key is added to a dictionary, a hash function calculates a unique integer value (the hash) for that key.\n",
        "Bucket Allocation: This hash value determines the specific location (bucket) within the dictionary's internal array where the key-value pair is stored.\n",
        "O(1) Time Complexity:\n",
        "\n",
        "In most cases, accessing an element in a hash table takes constant time, regardless of the number of elements in the dictionary.\n",
        "This is because the hash function quickly directs the search to the correct bucket.\n",
        "Considerations:\n",
        "\n",
        "Hash Collisions: If multiple keys hash to the same bucket, collisions occur.\n",
        "Collision resolution techniques (like chaining or open addressing) are used to handle these situations.\n",
        "In cases of high collision rates, the average time complexity might slightly increase, but it generally remains within the O(1) range.\n",
        "\n"
      ],
      "metadata": {
        "id": "sSmnEyemJO_P"
      }
    },
    {
      "cell_type": "markdown",
      "source": [
        "# **17 What is the nested dictionary and give an example of it used case?**\n",
        "\n",
        "\n",
        "Nested Dictionaries\n",
        "\n",
        "A nested dictionary is a dictionary where the values themselves are also dictionaries. This creates a hierarchical structure, allowing you to represent complex, multi-level data.\n",
        "\n",
        "Example:\n",
        "\n",
        "Imagine you're storing information about students and their grades in different subjects. You can use a nested dictionary to represent this:\n"
      ],
      "metadata": {
        "id": "FqmsuGavKqpl"
      }
    },
    {
      "cell_type": "code",
      "source": [
        "students = {\n",
        "    \"Alice\": {\n",
        "        \"Math\": 90,\n",
        "        \"Science\": 85,\n",
        "        \"English\": 92\n",
        "    },\n",
        "    \"Bob\": {\n",
        "        \"Math\": 88,\n",
        "        \"Science\": 95,\n",
        "        \"English\": 80\n",
        "    },\n",
        "    \"Charlie\": {\n",
        "        \"Math\": 78,\n",
        "        \"Science\": 82,\n",
        "        \"English\": 90\n",
        "    }\n",
        "}"
      ],
      "metadata": {
        "id": "ASaGcIyQK5Jq"
      },
      "execution_count": null,
      "outputs": []
    },
    {
      "cell_type": "markdown",
      "source": [
        "In this example:\n",
        "\n",
        "The outermost dictionary has keys representing student names (\"Alice\", \"Bob\", \"Charlie\").\n",
        "The values associated with each student name are themselves dictionaries.\n",
        "These inner dictionaries store the student's grades in different subjects (\"Math\", \"Science\", \"English\").\n",
        "Use Cases of Nested Dictionaries:\n",
        "\n",
        "Representing hierarchical data:\n",
        "\n",
        "File systems: Represent directories and files within them.\n",
        "Organizational structures: Represent departments, teams, and employees within a company.\n",
        "Product catalogs: Represent categories, subcategories, and products.\n",
        "Storing complex data:\n",
        "\n",
        "Storing user profiles with multiple attributes (e.g., personal information, preferences, social connections).\n",
        "Representing game data, such as player inventories, character attributes, and game levels.\n",
        "Creating flexible data structures:\n",
        "\n",
        "Nested dictionaries allow for dynamic and flexible data representation, as you can easily add or remove levels and elements.\n",
        "Accessing Data in Nested Dictionaries:\n",
        "\n",
        "To access data within a nested dictionary, you use multiple levels of key access:"
      ],
      "metadata": {
        "id": "3BdWGFX3K9U9"
      }
    },
    {
      "cell_type": "code",
      "source": [
        "# Access Alice's Math grade\n",
        "alice_math_grade = students[\"Alice\"][\"Math\"]\n",
        "print(alice_math_grade)  # Output: 90"
      ],
      "metadata": {
        "id": "yvEN1UXbK_ON"
      },
      "execution_count": null,
      "outputs": []
    },
    {
      "cell_type": "markdown",
      "source": [
        "Nested dictionaries provide a powerful way to organize and represent complex data in a structured and efficient manner."
      ],
      "metadata": {
        "id": "lZuUWp1fLHMs"
      }
    },
    {
      "cell_type": "markdown",
      "source": [
        "# **18 In what situation are listening preferred over dictionaries?**\n",
        "\n",
        "Lists are preferred over dictionaries in situations where:\n",
        "\n",
        "Maintaining Order is Crucial:\n",
        "\n",
        "Lists preserve the order of elements in the collection.\n",
        "If the order of your data is important for your application's logic, lists are the better choice.\n",
        "Examples:\n",
        "Storing a sequence of events in the order they occurred.\n",
        "Implementing a First-In, First-Out (FIFO) queue.\n",
        "Duplicates are Allowed:\n",
        "\n",
        "Lists allow duplicate values.\n",
        "If you need to store multiple occurrences of the same element, lists are more appropriate.\n",
        "Example:\n",
        "Storing a list of user IDs, where some users might appear multiple times.\n",
        "Efficient Insertion and Deletion:\n",
        "\n",
        "While dictionaries are fast for lookups, lists can be more efficient for certain insertion and deletion operations, depending on the specific position.\n",
        "Iterating over Elements:\n",
        "\n",
        "If you frequently need to iterate through the elements of the collection in a specific order, lists provide a more straightforward and natural way to do so.\n",
        "\n",
        "\n"
      ],
      "metadata": {
        "id": "czVPuA3uLe6k"
      }
    },
    {
      "cell_type": "markdown",
      "source": [
        "# **19 Why are dictionary considerate unordered and how does that affect data retrieval?**\n",
        "\n",
        "Dictionaries in Python are considered unordered because:\n",
        "\n",
        "Hashing: Dictionaries are implemented using hash tables. The order in which key-value pairs are stored is determined by the hash function, which maps keys to specific locations (buckets) within the hash table.\n",
        "Focus on Key-Value Mapping: The primary purpose of a dictionary is to provide fast lookups based on keys. The order of the key-value pairs is not a core concern for this purpose.\n",
        "Implementation Details: The exact order of elements in a dictionary can vary depending on the Python implementation and the specific hash table algorithm used.\n",
        "How Unordered Nature Affects Data Retrieval:\n",
        "\n",
        "No Reliance on Order: You cannot rely on the order of elements when iterating over a dictionary. If you need to access elements in a specific order, you'll need to sort the keys or use an ordered dictionary.\n",
        "Fast Key-Based Lookups: The unordered nature of dictionaries does not impact the speed of key-based lookups. Dictionaries are designed to provide constant-time (O(1)) lookups for keys, regardless of their order.\n",
        "\n",
        "\n",
        "\n"
      ],
      "metadata": {
        "id": "PM8hC6PtLtXB"
      }
    },
    {
      "cell_type": "markdown",
      "source": [
        "20  Explain the difference between a list and a  dictionary in terms of data retrieval.\n",
        "\n",
        "Lists\n",
        "\n",
        "Retrieval by Index:\n",
        "You access elements in a list using their numerical index (starting from 0).\n",
        "Example: my_list[0] to access the first element.\n",
        "Time Complexity:\n",
        "Direct access by index is very fast (O(1)).\n",
        "Searching for a specific value within the list requires iterating through the list, resulting in linear time complexity (O(n)).\n",
        "Dictionaries\n",
        "\n",
        "Retrieval by Key:\n",
        "You access values in a dictionary using their associated keys.\n",
        "Example: my_dict['name'] to access the value associated with the key 'name'.\n",
        "Time Complexity:\n",
        "Retrieving a value by its key is extremely fast, typically taking constant time (O(1)) on average due to the use of hashing.\n",
        "Key Differences\n",
        "\n",
        "Access Method: Lists use numerical indices, while dictionaries use keys.\n",
        "Speed: Dictionaries generally offer much faster lookups (O(1)) compared to lists (O(n) for searching).\n",
        "Focus: Lists are suitable when you need to access elements based on their position in the sequence. Dictionaries are ideal when you need to quickly retrieve values based on specific identifiers (keys).\n",
        "Example\n",
        "\n",
        "Imagine you have a list of student names:\n",
        "\n"
      ],
      "metadata": {
        "id": "OyeNyVRgMQKF"
      }
    },
    {
      "cell_type": "code",
      "source": [
        "students = [\"Alice\", \"Bob\", \"Charlie\"]"
      ],
      "metadata": {
        "id": "fGI_TeP8M39E"
      },
      "execution_count": null,
      "outputs": []
    },
    {
      "cell_type": "markdown",
      "source": [
        "To find \"Bob\" in the list, you might need to iterate through the list until you find the matching name.\n",
        "\n",
        "Now consider a dictionary:"
      ],
      "metadata": {
        "id": "CFKWDXhvM7Tz"
      }
    },
    {
      "cell_type": "code",
      "source": [
        "students = {\"Alice\": 90, \"Bob\": 85, \"Charlie\": 92}"
      ],
      "metadata": {
        "id": "5En96lrvM-Yd"
      },
      "execution_count": null,
      "outputs": []
    },
    {
      "cell_type": "markdown",
      "source": [
        "To find Bob's score, you can directly access it using the key \"Bob\":"
      ],
      "metadata": {
        "id": "3jL1vdVoNBKi"
      }
    },
    {
      "cell_type": "code",
      "source": [
        "bobs_score = students[\"Bob\"]"
      ],
      "metadata": {
        "id": "GdrmXfz_NCvI"
      },
      "execution_count": null,
      "outputs": []
    },
    {
      "cell_type": "markdown",
      "source": [
        "This direct key-based access in dictionaries provides a significant speed advantage, especially for large datasets."
      ],
      "metadata": {
        "id": "AgOHOeT_NHYz"
      }
    },
    {
      "cell_type": "markdown",
      "source": [
        "\n",
        "\n",
        "\n",
        "\n",
        "## **Pratical Queastion **\n",
        "\n",
        "# 1 **Write a code to create a string with your name and print it?**\n",
        "Answer\n",
        "\n"
      ],
      "metadata": {
        "id": "My2MViCJNSml"
      }
    },
    {
      "cell_type": "code",
      "source": [
        "my_name = \"Gemini\"\n",
        "print(my_name)"
      ],
      "metadata": {
        "id": "vQ70Mu6BQICa"
      },
      "execution_count": null,
      "outputs": []
    },
    {
      "cell_type": "markdown",
      "source": [
        "This code will:\n",
        "\n",
        "Create a string:\n",
        "\n",
        "my_name = \"Gemini\": This line creates a string variable named my_name and assigns the value \"Gemini\" to it.\n",
        "Print the string:\n",
        "\n",
        "print(my_name): This line uses the print() function to display the value of the my_name variable on the console.\n",
        "This will output:"
      ],
      "metadata": {
        "id": "QLzlMulKQPGi"
      }
    },
    {
      "cell_type": "code",
      "source": [
        "Gemini"
      ],
      "metadata": {
        "id": "vzakewQVQUuA"
      },
      "execution_count": null,
      "outputs": []
    },
    {
      "cell_type": "markdown",
      "source": [
        "# 2 Write a code to find the length of the string and \"hello Words\":\n",
        "Answer"
      ],
      "metadata": {
        "id": "jcFvCh4RQrTD"
      }
    },
    {
      "cell_type": "code",
      "source": [
        "my_string = \"hello World\"\n",
        "string_length = len(my_string)\n",
        "\n",
        "print(\"The string is:\", my_string)\n",
        "print(\"The length of the string is:\", string_length)"
      ],
      "metadata": {
        "id": "erTKxlm8RLpM"
      },
      "execution_count": null,
      "outputs": []
    },
    {
      "cell_type": "markdown",
      "source": [
        "This code will:\n",
        "\n",
        "Create a string:\n",
        "\n",
        "my_string = \"hello World\": This line creates a string variable named my_string and assigns the value \"hello World\" to it.\n",
        "Find the length of the string:\n",
        "\n",
        "string_length = len(my_string): This line uses the len() function to determine the number of characters in the my_string and stores the result in the string_length variable.\n",
        "Print the results:\n",
        "\n",
        "print(\"The string is:\", my_string): This line prints the original string.\n",
        "print(\"The length of the string is:\", string_length): This line prints the length of the string.\n",
        "This will output:\n"
      ],
      "metadata": {
        "id": "Ag7PA4dfRM_B"
      }
    },
    {
      "cell_type": "code",
      "source": [
        "The string is: hello World\n",
        "The length of the string is: 11"
      ],
      "metadata": {
        "id": "a28bEnJjRXjg"
      },
      "execution_count": null,
      "outputs": []
    },
    {
      "cell_type": "markdown",
      "source": [
        "# 3 Write a quote to slice the first three character from the string \"Python programming\"\n",
        "\n",
        "Answer"
      ],
      "metadata": {
        "id": "4TITurUoRcn6"
      }
    },
    {
      "cell_type": "code",
      "source": [
        "my_string = \"Python programming\"\n",
        "first_three_chars = my_string[:3]\n",
        "\n",
        "print(first_three_chars)  # Output: \"Pyt\""
      ],
      "metadata": {
        "id": "GxBYjVzXR4uW"
      },
      "execution_count": null,
      "outputs": []
    },
    {
      "cell_type": "markdown",
      "source": [
        "Explanation:\n",
        "\n",
        "my_string = \"Python programming\": This line creates a string variable named my_string and assigns the value \"Python programming\" to it.\n",
        "first_three_chars = my_string[:3]: This line uses string slicing to extract the first three characters from the string.\n",
        ": is used for slicing, specifying the start and end indices of the substring.\n",
        "[:3] means to start from the beginning of the string (index 0) and extract characters up to, but not including, index 3.\n",
        "This code will output:"
      ],
      "metadata": {
        "id": "K-suutAbSPu-"
      }
    },
    {
      "cell_type": "code",
      "source": [
        "Pyt"
      ],
      "metadata": {
        "id": "aAR9Nd5XSRpL"
      },
      "execution_count": null,
      "outputs": []
    },
    {
      "cell_type": "markdown",
      "source": [
        "4 Write a code to convert this string Hello to uppercase?"
      ],
      "metadata": {
        "id": "DE0jgmPESUuI"
      }
    },
    {
      "cell_type": "code",
      "source": [
        "my_string = \"Hello\"\n",
        "uppercase_string = my_string.upper()\n",
        "\n",
        "print(uppercase_string)  # Output: \"HELLO\""
      ],
      "metadata": {
        "id": "-G2r3nUkSq5f"
      },
      "execution_count": null,
      "outputs": []
    },
    {
      "cell_type": "markdown",
      "source": [
        "Explanation:\n",
        "\n",
        "my_string = \"Hello\": This line creates a string variable named my_string and assigns the value \"Hello\" to it.\n",
        "uppercase_string = my_string.upper(): This line uses the upper() method of the string object to convert all lowercase letters in my_string to uppercase. The result is stored in the uppercase_string variable.\n",
        "print(uppercase_string): This line prints the value of the uppercase_string variable, which now contains the uppercase version of the original string.\n",
        "This code will output:"
      ],
      "metadata": {
        "id": "pzP5HYlmSuUw"
      }
    },
    {
      "cell_type": "code",
      "source": [
        "HELLO"
      ],
      "metadata": {
        "id": "UK53KerjSzYB"
      },
      "execution_count": null,
      "outputs": []
    },
    {
      "cell_type": "markdown",
      "source": [
        "# **5 Write a code to replace the word \"apple\" with \"orange\" in the string. I like apple.**\n"
      ],
      "metadata": {
        "id": "xpXf_CKUTNeM"
      }
    },
    {
      "cell_type": "code",
      "source": [
        "my_string = \"I like apple.\"\n",
        "new_string = my_string.replace(\"apple\", \"orange\")\n",
        "\n",
        "print(new_string)  # Output: \"I like orange.\""
      ],
      "metadata": {
        "id": "995TFjm4Tk79"
      },
      "execution_count": null,
      "outputs": []
    },
    {
      "cell_type": "markdown",
      "source": [
        "Explanation:\n",
        "\n",
        "my_string = \"I like apple.\": This line creates a string variable named my_string and assigns the value \"I like apple.\" to it.\n",
        "new_string = my_string.replace(\"apple\", \"orange\"): This line uses the replace() method of the string object to replace all occurrences of the substring \"apple\" with \"orange\" in the original string. The resulting string is stored in the new_string variable.\n",
        "print(new_string): This line prints the value of the new_string variable, which now contains the modified string \"I like orange.\".\n",
        "This code effectively replaces the word \"apple\" with \"orange\" in the given string."
      ],
      "metadata": {
        "id": "Q42KN0LXTpSu"
      }
    },
    {
      "cell_type": "markdown",
      "source": [
        "# **6  Write a code to create a list with number 1 to 5 and print it.**\n",
        "\n"
      ],
      "metadata": {
        "id": "ZsQ5XkU6UHg3"
      }
    },
    {
      "cell_type": "code",
      "source": [
        "my_list = list(range(1, 6))\n",
        "print(my_list)"
      ],
      "metadata": {
        "id": "U66THUpdVvtp"
      },
      "execution_count": null,
      "outputs": []
    },
    {
      "cell_type": "markdown",
      "source": [
        "Explanation:\n",
        "\n",
        "range(1, 6): This function generates a sequence of numbers from 1 (inclusive) to 6 (exclusive).\n",
        "list(range(1, 6)): This converts the generated sequence into a list.\n",
        "print(my_list): This line prints the created list to the console.\n",
        "This code will output:"
      ],
      "metadata": {
        "id": "V-_umi4BVx8O"
      }
    },
    {
      "cell_type": "code",
      "source": [
        "[1, 2, 3, 4, 5]"
      ],
      "metadata": {
        "id": "IZTq0m6kV4v1"
      },
      "execution_count": null,
      "outputs": []
    },
    {
      "cell_type": "markdown",
      "source": [
        "# **7 Write a code to append the numbers 10 to the list [1,2,3,4].**\n",
        "\n",
        "Answer\n",
        "\n"
      ],
      "metadata": {
        "id": "4AM9vXfEWVvt"
      }
    },
    {
      "cell_type": "code",
      "source": [
        "my_list = [1, 2, 3, 4]\n",
        "my_list.append(10)\n",
        "\n",
        "print(my_list)  # Output: [1, 2, 3, 4, 10]"
      ],
      "metadata": {
        "id": "eCFR2pmgXWdS"
      },
      "execution_count": null,
      "outputs": []
    },
    {
      "cell_type": "markdown",
      "source": [
        "Explanation:\n",
        "\n",
        "Create a list:\n",
        "\n",
        "my_list = [1, 2, 3, 4]: This line creates a list named my_list and initializes it with the numbers 1, 2, 3, and 4.\n",
        "Append an element:\n",
        "\n",
        "my_list.append(10): This line uses the append() method of the list object to add the number 10 to the end of the list. The append() method modifies the list in-place.\n",
        "Print the list:\n",
        "\n",
        "print(my_list): This line prints the updated list to the console, which now includes the number 10.\n",
        "This code will output:"
      ],
      "metadata": {
        "id": "_2H_FSMuXdJ3"
      }
    },
    {
      "cell_type": "code",
      "source": [
        "[1, 2, 3, 4, 10]"
      ],
      "metadata": {
        "id": "iF9Ql8z9XgNN"
      },
      "execution_count": null,
      "outputs": []
    },
    {
      "cell_type": "markdown",
      "source": [
        "# **8 Write a code to remove the number 3 from the list [1,2,3,4,5].**\n",
        "Answer\n",
        "This code will:\n",
        "\n",
        "Create a list:\n",
        "\n",
        "my_list = [1, 2, 3, 4, 5]: This line creates a list named my_list with the numbers 1 to 5.\n",
        "Remove the number 3:\n",
        "\n",
        "my_list.remove(3): This line uses the remove() method of the list object to remove the first occurrence of the number 3 from the list.\n",
        "Print the list:\n",
        "\n",
        "print(my_list): This line prints the updated list to the console, which now excludes the number 3.\n",
        "This will output:\n"
      ],
      "metadata": {
        "id": "Y8eqgDYzXm2X"
      }
    },
    {
      "cell_type": "code",
      "source": [
        "[1, 2, 4, 5]"
      ],
      "metadata": {
        "id": "COeOOIlCYGgr"
      },
      "execution_count": null,
      "outputs": []
    },
    {
      "cell_type": "markdown",
      "source": [
        "Here's the code to remove the number 3 from the list [1, 2, 3, 4, 5]:"
      ],
      "metadata": {
        "id": "fEAMzJ-DYc94"
      }
    },
    {
      "cell_type": "code",
      "source": [
        "my_list = [1, 2, 3, 4, 5]\n",
        "my_list.remove(3)\n",
        "print(my_list)  # Output: [1, 2, 4, 5]"
      ],
      "metadata": {
        "id": "z47ivPTLYwVL"
      },
      "execution_count": null,
      "outputs": []
    },
    {
      "cell_type": "markdown",
      "source": [
        "Explanation:\n",
        "\n",
        "my_list = [1, 2, 3, 4, 5]: This line creates a list named my_list containing the numbers from 1 to 5.\n",
        "my_list.remove(3): This line uses the remove() method of the list object to remove the first occurrence of the value 3 from the list. If the value is not found, it will raise a ValueError.\n",
        "print(my_list): This line prints the updated list to the console, which now excludes the number 3.\n",
        "This code effectively removes the number 3 from the given list and prints the resulting list."
      ],
      "metadata": {
        "id": "pSugcvN3Y0jz"
      }
    },
    {
      "cell_type": "markdown",
      "source": [
        "# **9  Write a code to access the second element in the list [a,b,c,d]**\n",
        "\n",
        "\n"
      ],
      "metadata": {
        "id": "8SN9uIOAaBVF"
      }
    },
    {
      "cell_type": "code",
      "source": [
        "my_list = ['a', 'b', 'c', 'd']\n",
        "second_element = my_list[1]\n",
        "\n",
        "print(second_element)  # Output: 'b'"
      ],
      "metadata": {
        "id": "YO0oYXtlaVaZ"
      },
      "execution_count": null,
      "outputs": []
    },
    {
      "cell_type": "markdown",
      "source": [
        "Explanation:\n",
        "\n",
        "my_list = ['a', 'b', 'c', 'd']: This line creates a list named my_list containing the elements 'a', 'b', 'c', and 'd'.\n",
        "second_element = my_list[1]: This line accesses the second element of the list using its index. In Python, indexing starts from 0, so the second element has an index of 1. The value of the second element ('b') is then stored in the second_element variable.\n",
        "print(second_element): This line prints the value of the second_element variable to the console, which will be 'b'."
      ],
      "metadata": {
        "id": "qpFot7bXaYQs"
      }
    },
    {
      "cell_type": "markdown",
      "source": [
        "# **10 Write a code to reverse the list [10,20,30,40,50]**\n",
        "Answer\n",
        "\n"
      ],
      "metadata": {
        "id": "6B4KA7JVador"
      }
    },
    {
      "cell_type": "code",
      "source": [
        "my_list = [10, 20, 30, 40, 50]\n",
        "\n",
        "# Method 1: Using the .reverse() method (modifies the original list)\n",
        "my_list.reverse()\n",
        "print(my_list)  # Output: [50, 40, 30, 20, 10]\n",
        "\n",
        "# Method 2: Using slicing (creates a new reversed list)\n",
        "reversed_list = my_list[::-1]\n",
        "print(reversed_list)  # Output: [50, 40, 30, 20, 10]\n",
        "\n",
        "# Method 3: Using the reversed() function (creates an iterator)\n",
        "reversed_list = list(reversed(my_list))\n",
        "print(reversed_list)  # Output: [50, 40, 30, 20, 10]"
      ],
      "metadata": {
        "id": "NFN1rqE9bLQF"
      },
      "execution_count": null,
      "outputs": []
    },
    {
      "cell_type": "markdown",
      "source": [
        "Explanation:\n",
        "\n",
        "Method 1 (.reverse()):\n",
        "\n",
        "my_list.reverse(): This method directly modifies the original list by reversing the order of its elements in-place.\n",
        "Method 2 (Slicing):\n",
        "\n",
        "my_list[::-1]: This slice notation creates a new list by reversing the order of elements in the original list.\n",
        "[::-1] means start from the end of the list, move backwards with a step of -1, and include all elements.\n",
        "Method 3 (reversed() function):\n",
        "\n",
        "reversed(my_list): This function returns an iterator that accesses the elements of the list in reverse order.\n",
        "list(reversed(my_list)): This converts the iterator back into a list.\n",
        "All three methods effectively reverse the given list, but they have different approaches and may have slight performance implications depending on the specific use case."
      ],
      "metadata": {
        "id": "Ql3fQPbRbPxN"
      }
    },
    {
      "cell_type": "markdown",
      "source": [
        "# **11 Write to code to create a Tuple with the element 10,20,30,and print it.**\n",
        "Answer"
      ],
      "metadata": {
        "id": "-UrR5zTebTn4"
      }
    },
    {
      "cell_type": "code",
      "source": [
        "my_tuple = (10, 20, 30)\n",
        "print(my_tuple)"
      ],
      "metadata": {
        "id": "m0AoknEQcSOa"
      },
      "execution_count": null,
      "outputs": []
    },
    {
      "cell_type": "markdown",
      "source": [
        "Explanation:\n",
        "\n",
        "my_tuple = (10, 20, 30): This line creates a tuple named my_tuple and assigns the values 10, 20, and 30 to it. Tuples are defined using parentheses ().\n",
        "\n",
        "print(my_tuple): This line prints the contents of the tuple to the console.\n",
        "\n",
        "This will output:"
      ],
      "metadata": {
        "id": "J4lyvmQRcUto"
      }
    },
    {
      "cell_type": "code",
      "source": [
        "(10, 20, 30)"
      ],
      "metadata": {
        "id": "mcTpI2orcXyK"
      },
      "execution_count": null,
      "outputs": []
    },
    {
      "cell_type": "markdown",
      "source": [
        "# **12 Write a code the first element of the tuple [apple, banana, Cherry]**\n",
        "Answer\n"
      ],
      "metadata": {
        "id": "X8U4C5pWcd_W"
      }
    },
    {
      "cell_type": "code",
      "source": [
        "my_tuple = (\"apple\", \"banana\", \"Cherry\")\n",
        "first_element = my_tuple[0]\n",
        "\n",
        "print(first_element)  # Output: 'apple'"
      ],
      "metadata": {
        "id": "dpiJlb__ebCj"
      },
      "execution_count": null,
      "outputs": []
    },
    {
      "cell_type": "markdown",
      "source": [
        "Explanation:\n",
        "\n",
        "my_tuple = (\"apple\", \"banana\", \"Cherry\"): This line creates a tuple named my_tuple containing the strings \"apple\", \"banana\", and \"Cherry\".\n",
        "\n",
        "first_element = my_tuple[0]: This line accesses the first element of the tuple using its index. In Python, indexing starts from 0, so the first element has an index of 0. The value of the first element (\"apple\") is then stored in the first_element variable.\n",
        "\n",
        "print(first_element): This line prints the value of the first_element variable to the console, which will be 'apple'."
      ],
      "metadata": {
        "id": "wrYpTThFef-M"
      }
    },
    {
      "cell_type": "markdown",
      "source": [
        "# **13 Write a code to count how many times the number 2 appear in the tuple [1,2,3,2,4,2]?**\n",
        "Answer\n",
        "\n",
        "\n"
      ],
      "metadata": {
        "id": "bNlx34b5ejD6"
      }
    },
    {
      "cell_type": "code",
      "source": [
        "my_tuple = (1, 2, 3, 2, 4, 2)\n",
        "count = my_tuple.count(2)\n",
        "\n",
        "print(\"The number 2 appears\", count, \"times in the tuple.\")"
      ],
      "metadata": {
        "id": "ClIL6dMOfMpi"
      },
      "execution_count": null,
      "outputs": []
    },
    {
      "cell_type": "markdown",
      "source": [
        "Explanation:\n",
        "\n",
        "Create a tuple:\n",
        "\n",
        "my_tuple = (1, 2, 3, 2, 4, 2): This line creates a tuple named my_tuple containing the given numbers.\n",
        "Count occurrences:\n",
        "\n",
        "count = my_tuple.count(2): This line uses the count() method of the tuple object.\n",
        "my_tuple.count(2) counts how many times the number 2 appears within the tuple and stores the result in the count variable.\n",
        "Print the result:\n",
        "\n",
        "print(\"The number 2 appears\", count, \"times in the tuple.\"): This line prints a formatted message indicating how many times the number 2 appears in the tuple.\n",
        "This code will output:"
      ],
      "metadata": {
        "id": "R7Wb4w8hfQP5"
      }
    },
    {
      "cell_type": "code",
      "source": [
        "The number 2 appears 3 times in the tuple."
      ],
      "metadata": {
        "id": "krQGc-ftfTtR"
      },
      "execution_count": null,
      "outputs": []
    },
    {
      "cell_type": "markdown",
      "source": [
        "# **14 Write a code to find the indix of the element \"cat\" in the tuple [dog, cat, rabbit]**\n",
        "Answer\n"
      ],
      "metadata": {
        "id": "LLQmOh_ifZ1i"
      }
    },
    {
      "cell_type": "code",
      "source": [
        "my_tuple = (\"dog\", \"cat\", \"rabbit\")\n",
        "index_of_cat = my_tuple.index(\"cat\")\n",
        "\n",
        "print(\"The index of 'cat' is:\", index_of_cat)  # Output: The index of 'cat' is: 1"
      ],
      "metadata": {
        "id": "eEqYVDRPgAWB"
      },
      "execution_count": null,
      "outputs": []
    },
    {
      "cell_type": "markdown",
      "source": [
        "Explanation:\n",
        "\n",
        "Create a tuple:\n",
        "\n",
        "my_tuple = (\"dog\", \"cat\", \"rabbit\"): This line creates a tuple named my_tuple containing the given strings.\n",
        "Find the index:\n",
        "\n",
        "index_of_cat = my_tuple.index(\"cat\"): This line uses the index() method of the tuple object.\n",
        "my_tuple.index(\"cat\") finds the index (position) of the first occurrence of the string \"cat\" within the tuple and stores the result in the index_of_cat variable.\n",
        "Print the result:\n",
        "\n",
        "print(\"The index of 'cat' is:\", index_of_cat): This line prints a formatted message indicating the index of the \"cat\" element in the tuple.\n",
        "This code will output:"
      ],
      "metadata": {
        "id": "83iV4C3lgE3K"
      }
    },
    {
      "cell_type": "code",
      "source": [
        "The index of 'cat' is: 1"
      ],
      "metadata": {
        "id": "cqSKq5YqgIKY"
      },
      "execution_count": null,
      "outputs": []
    },
    {
      "cell_type": "markdown",
      "source": [
        "# 15 Write a code to check if the element Banana is in the people  [apple, orangan,banana]\n"
      ],
      "metadata": {
        "id": "SZfO-idugJEL"
      }
    },
    {
      "cell_type": "code",
      "source": [
        "fruits = [\"apple\", \"orange\", \"banana\"]\n",
        "\n",
        "if \"banana\" in fruits:\n",
        "  print(\"Banana is in the list.\")\n",
        "else:\n",
        "  print(\"Banana is not in the list.\")"
      ],
      "metadata": {
        "id": "AKTZsIVfigc1"
      },
      "execution_count": null,
      "outputs": []
    },
    {
      "cell_type": "markdown",
      "source": [
        "Explanation:\n",
        "\n",
        "Create a list:\n",
        "\n",
        "fruits = [\"apple\", \"orange\", \"banana\"]: This line creates a list named fruits containing the given strings.\n",
        "Check for membership:\n",
        "\n",
        "if \"banana\" in fruits:: This line uses the in operator to check if the string \"banana\" exists within the fruits list.\n",
        "If \"banana\" is found in the list, the condition is True.\n",
        "Print the result:\n",
        "\n",
        "print(\"Banana is in the list.\"): This line is executed if the if condition is True, indicating that \"banana\" is found in the list.\n",
        "print(\"Banana is not in the list.\"): This line is executed if the if condition is False, indicating that \"banana\" is not found in the list.\n",
        "This code will output:"
      ],
      "metadata": {
        "id": "hb99UUsSimQ3"
      }
    },
    {
      "cell_type": "code",
      "source": [
        "Banana is in the list."
      ],
      "metadata": {
        "id": "eAUiNlkViqVU"
      },
      "execution_count": null,
      "outputs": []
    },
    {
      "cell_type": "markdown",
      "source": [
        "# **16 Write a code to create a set with the element [1,2,3,4,5] and print it.**\n",
        "\n",
        "Answer"
      ],
      "metadata": {
        "id": "AiJfIobsivCM"
      }
    },
    {
      "cell_type": "code",
      "source": [
        "my_set = {1, 2, 3, 4, 5}\n",
        "print(my_set)"
      ],
      "metadata": {
        "id": "zFwGJO6NjH05"
      },
      "execution_count": null,
      "outputs": []
    },
    {
      "cell_type": "markdown",
      "source": [
        "Explanation:\n",
        "\n",
        "my_set = {1, 2, 3, 4, 5}: This line creates a set named my_set and initializes it with the given numbers. Sets in Python are defined using curly braces {}.\n",
        "\n",
        "print(my_set): This line prints the contents of the set to the console.\n",
        "\n",
        "This code will output:"
      ],
      "metadata": {
        "id": "sdK6E4VRjKi0"
      }
    },
    {
      "cell_type": "code",
      "source": [
        "{1, 2, 3, 4, 5}"
      ],
      "metadata": {
        "id": "dq0is513jQZI"
      },
      "execution_count": null,
      "outputs": []
    },
    {
      "cell_type": "markdown",
      "source": [
        "Note:\n",
        "\n",
        "Sets in Python are unordered collections, so the output may not always appear in the exact order as the input.\n",
        "Sets automatically remove duplicate elements. For example, {1, 2, 2, 3, 3, 4} would also result in the output {1, 2, 3, 4}."
      ],
      "metadata": {
        "id": "ayWVvEx3jVsI"
      }
    },
    {
      "cell_type": "markdown",
      "source": [
        "# 17 Write to code to add the element 6 to the set [1 ,2 ,3 ,4]\n",
        "Answer\n",
        "my_set = {1, 2, 3, 4}\n",
        "my_set.add(6)\n",
        "\n",
        "print(my_set)  # Output: {1, 2, 3, 4, 6}\n",
        "\n",
        "\n"
      ],
      "metadata": {
        "id": "BmLzSqKijhtm"
      }
    },
    {
      "cell_type": "markdown",
      "source": [
        "Explanation:\n",
        "\n",
        "Create a set:\n",
        "\n",
        "my_set = {1, 2, 3, 4}: This line creates a set named my_set containing the numbers 1, 2, 3, and 4.\n",
        "Add an element:\n",
        "\n",
        "my_set.add(6): This line uses the add() method of the set object to add the number 6 to the set. Sets do not allow duplicates, so if 6 was already in the set, this operation would have no effect.\n",
        "Print the set:\n",
        "\n",
        "print(my_set): This line prints the updated set to the console, which now includes the number 6.\n",
        "This code will output:"
      ],
      "metadata": {
        "id": "5NV0XTVJkHEj"
      }
    },
    {
      "cell_type": "code",
      "source": [
        "{1, 2, 3, 4, 6}"
      ],
      "metadata": {
        "id": "F1JjT_pJkIZW"
      },
      "execution_count": null,
      "outputs": []
    },
    {
      "cell_type": "markdown",
      "source": [
        "# **18 Write a code to create a set pupil with the element 10,20,30 and print it.**\n",
        "\n",
        "This code will:\n",
        "\n",
        "Create a set:\n",
        "\n",
        "pupil = {10, 20, 30}: This line creates a set named pupil and initializes it with the numbers 10, 20, and 30. Sets are defined using curly braces {}.\n",
        "Print the set:\n",
        "\n",
        "print(pupil): This line prints the contents of the set pupil to the console.\n",
        "This will output:\n"
      ],
      "metadata": {
        "id": "bnFE_kLNkL4X"
      }
    },
    {
      "cell_type": "code",
      "source": [
        "{10, 20, 30}"
      ],
      "metadata": {
        "id": "PBcBN2u_l9z-"
      },
      "execution_count": null,
      "outputs": []
    },
    {
      "cell_type": "markdown",
      "source": [
        "Note:\n",
        "\n",
        "The order of the elements in the output might not be the same as the input, as sets are unordered collections.\n",
        "Sets automatically remove any duplicate elements."
      ],
      "metadata": {
        "id": "i6FzX0z-mAcq"
      }
    },
    {
      "cell_type": "code",
      "source": [
        "pupil = {10, 20, 30}\n",
        "print(pupil)"
      ],
      "metadata": {
        "id": "AvbdPF3pmDC1"
      },
      "execution_count": null,
      "outputs": []
    },
    {
      "cell_type": "markdown",
      "source": [
        "This code will:\n",
        "\n",
        "Create a set:\n",
        "\n",
        "pupil = {10, 20, 30}: This line creates a set named pupil and initializes it with the numbers 10, 20, and 30. Sets in Python are defined using curly braces {}.\n",
        "Print the set:\n",
        "\n",
        "print(pupil): This line prints the contents of the set to the console.\n",
        "This will output:"
      ],
      "metadata": {
        "id": "nauj2NSjmHrP"
      }
    },
    {
      "cell_type": "markdown",
      "source": [],
      "metadata": {
        "id": "f047kzWmmHkX"
      }
    },
    {
      "cell_type": "code",
      "source": [
        "{10, 20, 30}"
      ],
      "metadata": {
        "id": "q7NzELi4mJUL"
      },
      "execution_count": null,
      "outputs": []
    },
    {
      "cell_type": "markdown",
      "source": [],
      "metadata": {
        "id": "axVKkD_MmHQ4"
      }
    },
    {
      "cell_type": "markdown",
      "source": [
        "# **19 Write a code to access the first element of the tuple [apple ,banana ,Cherry]**\n",
        "Answer\n",
        "This code will:\n",
        "\n",
        "Create a tuple:\n",
        "\n",
        "my_tuple = (\"apple\", \"banana\", \"Cherry\"): This line creates a tuple named my_tuple containing the strings \"apple\", \"banana\", and \"Cherry\".\n",
        "Access the first element:\n",
        "\n",
        "first_element = my_tuple[0]: This line accesses the first element of the tuple using its index. In Python, indexing starts from 0, so the first element has an index of 0. The value of the first element (\"apple\") is then stored in the first_element variable.\n",
        "Print the first element:\n",
        "\n",
        "print(first_element): This line prints the value of the first_element variable to the console, which will be 'apple'.\n"
      ],
      "metadata": {
        "id": "UGKRjdJPmW6g"
      }
    },
    {
      "cell_type": "code",
      "source": [
        "my_tuple = (\"apple\", \"banana\", \"Cherry\")\n",
        "first_element = my_tuple[0]\n",
        "print(first_element)  # Output: 'apple'"
      ],
      "metadata": {
        "id": "8dBbykP6m8zv"
      },
      "execution_count": null,
      "outputs": []
    },
    {
      "cell_type": "markdown",
      "source": [
        "This code does the following:\n",
        "\n",
        "Creates a tuple:\n",
        "\n",
        "my_tuple = (\"apple\", \"banana\", \"Cherry\") creates a tuple named my_tuple containing the strings \"apple\", \"banana\", and \"Cherry\".\n",
        "Accesses the first element:\n",
        "\n",
        "first_element = my_tuple[0] accesses the first element of the tuple. In Python, indexing starts from 0, so the first element has an index of 0. The value of the first element (\"apple\") is then stored in the first_element variable.\n",
        "Prints the first element:\n",
        "\n",
        "print(first_element) prints the value of the first_element variable to the console, which will be 'apple'.\n",
        "\n",
        "\n",
        "\n",
        "\n",
        "\n"
      ],
      "metadata": {
        "id": "cMHrVFMMnCPw"
      }
    },
    {
      "cell_type": "markdown",
      "source": [
        "# **20 Write a code to count how many times the number 2 appear in the tuple [1 ,2 ,3 ,2 ,4 ,2].**\n",
        "Answer\n"
      ],
      "metadata": {
        "id": "M-Ma497NnIzz"
      }
    },
    {
      "cell_type": "code",
      "source": [
        "my_tuple = (1, 2, 3, 2, 4, 2)\n",
        "count_of_two = my_tuple.count(2)\n",
        "\n",
        "print(\"The number 2 appears\", count_of_two, \"times in the tuple.\")"
      ],
      "metadata": {
        "id": "puIdwaSnn72Q"
      },
      "execution_count": null,
      "outputs": []
    },
    {
      "cell_type": "markdown",
      "source": [
        "This code will:\n",
        "\n",
        "Create a tuple:\n",
        "\n",
        "my_tuple = (1, 2, 3, 2, 4, 2): This line creates a tuple named my_tuple containing the given numbers.\n",
        "Count occurrences:\n",
        "\n",
        "count_of_two = my_tuple.count(2): This line uses the count() method of the tuple object.\n",
        "my_tuple.count(2) counts how many times the number 2 appears within the tuple and stores the result in the count_of_two variable.\n",
        "Print the result:\n",
        "\n",
        "print(\"The number 2 appears\", count_of_two, \"times in the tuple.\"): This line prints a formatted message indicating how many times the number 2 appears in the tuple.\n",
        "This code will output:"
      ],
      "metadata": {
        "id": "rORnC8_ooKNb"
      }
    },
    {
      "cell_type": "code",
      "source": [
        "The number 2 appears 3 times in the tuple."
      ],
      "metadata": {
        "id": "CLc4nCNWoRX3"
      },
      "execution_count": null,
      "outputs": []
    },
    {
      "cell_type": "markdown",
      "source": [
        "# **21 Write a code to the find the index of the element cat in the Tuple [dog, cat, rabbit].**\n",
        "Answer\n",
        "Explanation:\n",
        "\n",
        "Create a tuple:\n",
        "\n",
        "my_tuple = (\"dog\", \"cat\", \"rabbit\"): This line creates a tuple named my_tuple containing the strings \"dog\", \"cat\", and \"rabbit\".\n",
        "Find the index:\n",
        "\n",
        "try: ... except ValueError:: This block uses a try-except statement to handle potential errors.\n",
        "index_of_cat = my_tuple.index(\"cat\"): This line uses the index() method of the tuple object to find the index of the first occurrence of the string \"cat\". If \"cat\" is found, the index() method returns its index and the code continues.\n",
        "Handle potential errors:\n",
        "\n",
        "except ValueError:: This block is executed if the index() method raises a ValueError, which occurs when the specified element is not found in the tuple.\n",
        "print(\"The element 'cat' is not found in the tuple.\"): This line prints an appropriate message indicating that the element was not found.\n",
        "This code will:\n",
        "\n",
        "Find the index of \"cat\" in the tuple.\n",
        "Handle the case where the element is not found in the tuple by printing an informative message.\n",
        "Use an f-string for more concise and readable output.\n",
        "This code will output:\n"
      ],
      "metadata": {
        "id": "ULiw8ZsvpQQl"
      }
    },
    {
      "cell_type": "code",
      "source": [
        "The index of 'cat' is: 1"
      ],
      "metadata": {
        "id": "f2cdV5TKqAkk"
      },
      "execution_count": null,
      "outputs": []
    },
    {
      "cell_type": "markdown",
      "source": [
        "This code does the following:\n",
        "\n",
        "Creates a tuple:\n",
        "\n",
        "my_tuple = (\"dog\", \"cat\", \"rabbit\"): This line creates a tuple named my_tuple containing the strings \"dog\", \"cat\", and \"rabbit\".\n",
        "Finds the index:\n",
        "\n",
        "try: ... except ValueError:: This block uses a try-except statement to handle potential errors.\n",
        "index_of_cat = my_tuple.index(\"cat\"): This line uses the index() method of the tuple object to find the index of the first occurrence of the string \"cat\".\n",
        "If \"cat\" is found, the index() method returns its index and the code continues.\n",
        "Handles potential errors:\n",
        "\n",
        "except ValueError:: This block is executed if the index() method raises a ValueError, which occurs when the specified element is not found in the tuple.\n",
        "print(\"The element 'cat' is not found in the tuple.\"): This line prints an appropriate message indicating that the element was not found.\n",
        "Prints the result:\n",
        "\n",
        "print(f\"The index of 'cat' is: {index_of_cat}\"): This line uses an f-string to print the index of \"cat\" in a more concise and readable format.\n",
        "This code will:\n",
        "\n",
        "Find the index of \"cat\" in the tuple.\n",
        "Handle the case where the element is not found in the tuple by printing an informative message.\n",
        "Provide a more robust and informative solution compared to simply using my_tuple.index(\"cat\") without error handling.\n",
        "Use f-strings for better readability."
      ],
      "metadata": {
        "id": "kcrV8Ll1qDx_"
      }
    },
    {
      "cell_type": "markdown",
      "source": [
        "# **22 Write code to check if the element Banana is in the tuple [apple ,orange ,banana].**\n",
        "Answer\n"
      ],
      "metadata": {
        "id": "mu3SPJS2qGGh"
      }
    },
    {
      "cell_type": "code",
      "source": [
        "my_tuple = (\"apple\", \"orange\", \"banana\")\n",
        "\n",
        "if \"banana\" in my_tuple:\n",
        "  print(\"Banana is in the tuple.\")\n",
        "else:\n",
        "  print(\"Banana is not in the tuple.\")"
      ],
      "metadata": {
        "id": "cFBRcd4Fqlro"
      },
      "execution_count": null,
      "outputs": []
    },
    {
      "cell_type": "markdown",
      "source": [
        "Explanation:\n",
        "\n",
        "Create a tuple:\n",
        "\n",
        "my_tuple = (\"apple\", \"orange\", \"banana\"): This line creates a tuple named my_tuple containing the given strings.\n",
        "Check for membership:\n",
        "\n",
        "if \"banana\" in my_tuple:: This line uses the in operator to check if the string \"banana\" exists within the my_tuple.\n",
        "If \"banana\" is found in the tuple, the condition is True.\n",
        "Print the result:\n",
        "\n",
        "print(\"Banana is in the tuple.\"): This line is executed if the if condition is True, indicating that \"banana\" is found in the tuple.\n",
        "print(\"Banana is not in the tuple.\"): This line is executed if the if condition is False, indicating that \"banana\" is not found in the tuple.\n",
        "This code will output:"
      ],
      "metadata": {
        "id": "c-av8W7aqmhY"
      }
    },
    {
      "cell_type": "code",
      "source": [
        "Banana is in the tuple."
      ],
      "metadata": {
        "id": "aC5V9RrpqqV1"
      },
      "execution_count": null,
      "outputs": []
    },
    {
      "cell_type": "markdown",
      "source": [
        "# **23 Write a code to create a set with the element [1,2,3,4,5] and print it.**\n",
        "Answer"
      ],
      "metadata": {
        "id": "mUtrjPMpqsdM"
      }
    },
    {
      "cell_type": "code",
      "source": [
        "my_set = {1, 2, 3, 4, 5}\n",
        "print(my_set)"
      ],
      "metadata": {
        "id": "2ymoJ0dvrBPr"
      },
      "execution_count": null,
      "outputs": []
    },
    {
      "cell_type": "markdown",
      "source": [
        "Explanation:\n",
        "\n",
        "my_set = {1, 2, 3, 4, 5}: This line creates a set named my_set and initializes it with the given numbers. Sets in Python are defined using curly braces {}.\n",
        "\n",
        "print(my_set): This line prints the contents of the set to the console.\n",
        "\n",
        "This code will output:"
      ],
      "metadata": {
        "id": "j3y6ouR7rE7g"
      }
    },
    {
      "cell_type": "code",
      "source": [
        "{1, 2, 3, 4, 5}"
      ],
      "metadata": {
        "id": "d9zoD6I-rGiG"
      },
      "execution_count": null,
      "outputs": []
    },
    {
      "cell_type": "markdown",
      "source": [
        "Note:\n",
        "\n",
        "Sets in Python are unordered collections, so the output may not always appear in the exact order as the input.\n",
        "Sets automatically remove duplicate elements. For example, {1, 2, 2, 3, 3, 4} would also result in the output {1, 2, 3, 4}."
      ],
      "metadata": {
        "id": "849X7dD5rKYm"
      }
    },
    {
      "cell_type": "markdown",
      "source": [
        "# **24  Write a code to add the element 6 to the set [1,2,3,4}.**\n",
        "Answer\n"
      ],
      "metadata": {
        "id": "56wuqj-yrMoM"
      }
    },
    {
      "cell_type": "markdown",
      "source": [
        "Explanation:\n",
        "\n",
        "Create a set:\n",
        "\n",
        "my_set = {1, 2, 3, 4}: This line creates a set named my_set containing the numbers 1, 2, 3, and 4.\n",
        "Add an element:\n",
        "\n",
        "my_set.add(6): This line uses the add() method of the set object to add the number 6 to the set. Sets do not allow duplicates, so if 6 was already in the set, this operation would have no effect.\n",
        "Print the set:\n",
        "\n",
        "print(my_set): This line prints the updated set to the console, which now includes the number 6.\n",
        "This code will output:"
      ],
      "metadata": {
        "id": "t4fOZMQTru7P"
      }
    },
    {
      "cell_type": "code",
      "source": [
        "{1, 2, 3, 4, 6}"
      ],
      "metadata": {
        "id": "p8mIDsOIrzpH"
      },
      "execution_count": null,
      "outputs": []
    }
  ]
}